{
 "cells": [
  {
   "cell_type": "markdown",
   "metadata": {},
   "source": [
    "# Python_Basics - 1"
   ]
  },
  {
   "cell_type": "markdown",
   "metadata": {},
   "source": [
    "## Find the symetric difference between n sets"
   ]
  },
  {
   "cell_type": "markdown",
   "metadata": {},
   "source": [
    "Given two sets (for example set A = {1, 2, 3} and set B = {2, 3, 4}), the mathematical term \"symmetric difference\" of two sets is the set of elements which are in either of the two sets, but not in both (A △ B = C = {1, 4}). For every additional symmetric difference you take (say on a set D = {2, 3}), you should get the set with elements which are in either of the two the sets but not both (C △ D = {1, 4} △ {2, 3} = {1, 2, 3, 4}). The resulting array must contain only unique values (no duplicates)."
   ]
  },
  {
   "cell_type": "markdown",
   "metadata": {},
   "source": [
    "##### Solution 1"
   ]
  },
  {
   "cell_type": "code",
   "execution_count": 92,
   "metadata": {},
   "outputs": [],
   "source": [
    "def my_sym_dif (*args):\n",
    "    \n",
    "    if len(args) < 2:\n",
    "        return \"The function requires at least 2 data sets\"\n",
    "    else:\n",
    "        ds=set(args[0])\n",
    "        for i in range (1, len(args)):\n",
    "            ds=my_sym_dif_pair(ds, args[i])\n",
    "        return ds\n",
    "    \n",
    "def my_sym_dif_pair (ds1, ds2):\n",
    "    \n",
    "    ds3 = set()\n",
    "    for element in ds1:\n",
    "        if element not in ds2:\n",
    "            ds3.add(element)\n",
    "    for element in ds2:\n",
    "        if element not in ds1:\n",
    "            ds3.add(element)\n",
    "\n",
    "    return ds3        "
   ]
  },
  {
   "cell_type": "code",
   "execution_count": 94,
   "metadata": {},
   "outputs": [
    {
     "name": "stdout",
     "output_type": "stream",
     "text": [
      "The function requires at least 2 data sets\n",
      "{8, 3, 4, 5}\n",
      "{3, 4, 5}\n",
      "{3, 4, 5}\n",
      "{1, 5, 6, 7, 8}\n",
      "{'b', 'e', 'd', 'c'}\n",
      "The function requires at least 2 data sets\n"
     ]
    }
   ],
   "source": [
    "print (my_sym_dif([1,2,3]))\n",
    "print (my_sym_dif([1,2,3],[5,2,1,4,8]))\n",
    "print (my_sym_dif([1,2,3,3],[5,2,1,4]))\n",
    "print (my_sym_dif([1,2,3],[5,2,1,4,5]))\n",
    "print (my_sym_dif([1, 1, 2, 5], [2, 2, 3, 5], [3, 4, 5, 5],[6],[4,7,8]))\n",
    "print (my_sym_dif([\"a\",\"b\",\"c\"],[\"d\",\"a\",\"e\"]))\n",
    "print (my_sym_dif([1,2,3]))"
   ]
  },
  {
   "cell_type": "markdown",
   "metadata": {},
   "source": [
    "##### Solution 2"
   ]
  },
  {
   "cell_type": "code",
   "execution_count": 90,
   "metadata": {
    "scrolled": true
   },
   "outputs": [],
   "source": [
    "def my_sym_dif2 (*args):\n",
    "    \n",
    "    if len(args) < 2:\n",
    "        return \"The function requires at least 2 data sets\"\n",
    "    else: \n",
    "        ds=set(args[0])\n",
    "        for i in range (1, len(args)):\n",
    "            ds=ds.symmetric_difference(set(args[i]))\n",
    "        return ds"
   ]
  },
  {
   "cell_type": "code",
   "execution_count": 91,
   "metadata": {
    "scrolled": false
   },
   "outputs": [
    {
     "name": "stdout",
     "output_type": "stream",
     "text": [
      "{3, 4, 5, 8}\n",
      "{3, 4, 5}\n",
      "{3, 4, 5}\n",
      "{'d', 'e', 'c', 'b'}\n",
      "{1, 5, 6, 7, 8}\n",
      "The function requires at least 2 data sets\n"
     ]
    }
   ],
   "source": [
    "print (my_sym_dif2([1,2,3],[5,2,1,4,8]))\n",
    "print (my_sym_dif2([1,2,3,3],[5,2,1,4]))\n",
    "print (my_sym_dif2([1,2,3],[5,2,1,4,5]))\n",
    "print (my_sym_dif2([\"a\",\"b\",\"c\"],[\"d\",\"a\",\"e\"]))\n",
    "print (my_sym_dif2([1, 1, 2, 5], [2, 2, 3, 5], [3, 4, 5, 5],[6],[4,7,8]))\n",
    "print (my_sym_dif2([1,2,3]))\n"
   ]
  },
  {
   "cell_type": "markdown",
   "metadata": {},
   "source": [
    "## Find the intersection between n sets"
   ]
  },
  {
   "cell_type": "markdown",
   "metadata": {},
   "source": [
    "The intersection of n sets returns a set that contains the common elements present in all n sets"
   ]
  },
  {
   "cell_type": "code",
   "execution_count": 75,
   "metadata": {},
   "outputs": [],
   "source": [
    "def my_intersection (*args):\n",
    " \n",
    "    if len(args) < 2:\n",
    "        return \"The function requires at least 2 data sets\"\n",
    "    else: \n",
    "        ds=set(args[0])\n",
    "        for i in range (1, len(args)):\n",
    "            ds=ds.intersection(args[i])\n",
    "        return ds"
   ]
  },
  {
   "cell_type": "code",
   "execution_count": 76,
   "metadata": {
    "scrolled": false
   },
   "outputs": [
    {
     "name": "stdout",
     "output_type": "stream",
     "text": [
      "{1, 2}\n",
      "{1, 2}\n",
      "{1, 2}\n",
      "{1, 2}\n",
      "{'a'}\n",
      "The function requires at least 2 data sets to compare\n"
     ]
    }
   ],
   "source": [
    "print (my_intersection([1,2,3],[5,2,1,4,8]))\n",
    "print (my_intersection([1,2,3,3],[5,2,1,4]))\n",
    "print (my_intersection([1,2,3],[5,2,1,4,5]))\n",
    "print (my_intersection([1, 1, 2, 5], [2, 2, 3, 5,1], [1,3, 4, 5,2, 5],[6,1,2],[4,1,7,2,8]))\n",
    "print (my_intersection([\"a\",\"b\",\"c\"],[\"d\",\"a\",\"e\"]))\n",
    "print (my_intersection([1,2,3]))"
   ]
  },
  {
   "cell_type": "markdown",
   "metadata": {},
   "source": [
    "## Find the union between n sets"
   ]
  },
  {
   "cell_type": "code",
   "execution_count": null,
   "metadata": {},
   "outputs": [],
   "source": [
    "The intersection of n sets returns a set that contains the elements present in all n sets"
   ]
  },
  {
   "cell_type": "code",
   "execution_count": 96,
   "metadata": {},
   "outputs": [],
   "source": [
    "def my_union (*args):\n",
    " \n",
    "    if len(args) < 2:\n",
    "        return \"The function requires at least 2 data sets\"\n",
    "    else: \n",
    "        ds=set(args[0])\n",
    "        for i in range (1, len(args)):\n",
    "            ds=ds.union(args[i])\n",
    "        return ds"
   ]
  },
  {
   "cell_type": "code",
   "execution_count": 97,
   "metadata": {},
   "outputs": [
    {
     "name": "stdout",
     "output_type": "stream",
     "text": [
      "{1, 2, 3, 4, 5, 8}\n",
      "{1, 2, 3, 4, 5}\n",
      "{1, 2, 3, 4, 5}\n",
      "{1, 2, 3, 4, 5, 6, 7, 8}\n",
      "{'a', 'd', 'e', 'c', 'b'}\n",
      "The function requires at least 2 data sets\n"
     ]
    }
   ],
   "source": [
    "print (my_union([1,2,3],[5,2,1,4,8]))\n",
    "print (my_union([1,2,3,3],[5,2,1,4]))\n",
    "print (my_union([1,2,3],[5,2,1,4,5]))\n",
    "print (my_union([1, 1, 2, 5], [2, 2, 3, 5,1], [1,3, 4, 5,2, 5],[6,1,2],[4,1,7,2,8]))\n",
    "print (my_union([\"a\",\"b\",\"c\"],[\"d\",\"a\",\"e\"]))\n",
    "print (my_union([1,2,3]))"
   ]
  }
 ],
 "metadata": {
  "kernelspec": {
   "display_name": "Python 3",
   "language": "python",
   "name": "python3"
  },
  "language_info": {
   "codemirror_mode": {
    "name": "ipython",
    "version": 3
   },
   "file_extension": ".py",
   "mimetype": "text/x-python",
   "name": "python",
   "nbconvert_exporter": "python",
   "pygments_lexer": "ipython3",
   "version": "3.7.4"
  }
 },
 "nbformat": 4,
 "nbformat_minor": 2
}
